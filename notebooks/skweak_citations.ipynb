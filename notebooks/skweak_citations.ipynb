{
 "cells": [
  {
   "cell_type": "code",
   "execution_count": 17,
   "id": "6f2d88f1-b8a5-4f78-be7c-27a5a5b43539",
   "metadata": {},
   "outputs": [],
   "source": [
    "import spacy\n",
    "import csv\n",
    "import os\n",
    "import re\n",
    "import random\n",
    "from tqdm import tqdm\n",
    "from skweak.heuristics import FunctionAnnotator\n",
    "from skweak.base import CombinedAnnotator\n",
    "from skweak.aggregation import HMM\n",
    "from skweak.gazetteers import Trie, GazetteerAnnotator\n",
    "from skweak.utils import display_entities\n",
    "from skweak import utils"
   ]
  },
  {
   "cell_type": "markdown",
   "id": "9942eb6c-9463-478a-a161-a77dccb3a08d",
   "metadata": {},
   "source": [
    "# Preprocessing"
   ]
  },
  {
   "cell_type": "code",
   "execution_count": 18,
   "id": "31787373-1de0-4143-8c6b-788c89030b6a",
   "metadata": {},
   "outputs": [],
   "source": [
    "nlp_pt = spacy.load(\"pt_core_news_sm\")"
   ]
  },
  {
   "cell_type": "code",
   "execution_count": 19,
   "id": "34c31950-c065-45a4-9f1e-2c4c82b7ae35",
   "metadata": {},
   "outputs": [],
   "source": [
    "path = './Documentos Coletados/'\n",
    "\n",
    "def extract_from_docs(path):    \n",
    "    '''Extrai as sentencas a partir de vários arquivos em um diretório'''\n",
    "    \n",
    "    files = os.listdir(path)\n",
    "    docs = []\n",
    "\n",
    "    for filename in tqdm(files, position=0):\n",
    "        if os.path.splitext(filename)[1] == \".txt\":\n",
    "            with open(os.path.join(path, filename)) as f:\n",
    "                file = f.readlines()\n",
    "                for line in file:\n",
    "                    if line != '\\n':\n",
    "                        line = line\n",
    "                        docs.append(nlp_pt(line))\n",
    "            # docs.extend([nlp_pt(line) for line in file if line != '\\n'])\n",
    "\n",
    "    print('{} files processed'.format(len(files)))\n",
    "    print('{} sentences found'.format(len(docs)))"
   ]
  },
  {
   "cell_type": "code",
   "execution_count": 20,
   "id": "5352510d-2d27-4afc-b639-9699e77021ad",
   "metadata": {},
   "outputs": [],
   "source": [
    "def extract_from_file(filepath):\n",
    "    '''\n",
    "    Extrai as sentencas a partir de um único arquivo no qual elas estao separadas por quebra de linha.\n",
    "    Retorna uma lista de sentencas do tipo Doc do Spacy.\n",
    "    '''\n",
    "    \n",
    "    sentences = []\n",
    "    with open(filepath) as f:\n",
    "        lines = f.readlines()\n",
    "        for l in tqdm(lines, position=0):\n",
    "            if l != '\\n':\n",
    "                sentences.append(nlp_pt(l))\n",
    "    \n",
    "    return sentences\n",
    "                "
   ]
  },
  {
   "cell_type": "code",
   "execution_count": 21,
   "id": "a5e98a97-f5f8-4534-bf4c-f7960c509b69",
   "metadata": {},
   "outputs": [
    {
     "name": "stderr",
     "output_type": "stream",
     "text": [
      "100%|██████████████████████████████████████████████████████████████████████████████████████████████████████████████████████████████████████████████████████████| 41834/41834 [01:57<00:00, 354.75it/s]\n"
     ]
    }
   ],
   "source": [
    "filepath = './Coleta de sentencas/text_sentences_extracted.txt'\n",
    "sentences = extract_from_file(filepath)"
   ]
  },
  {
   "cell_type": "markdown",
   "id": "e3fdfa08-ee76-409c-9190-63c595a104d1",
   "metadata": {},
   "source": [
    "# Labelling functions"
   ]
  },
  {
   "cell_type": "markdown",
   "id": "4a5791cd-6d7a-45b6-b234-dc5d996b08ff",
   "metadata": {},
   "source": [
    "## Detecting generic laws"
   ]
  },
  {
   "cell_type": "code",
   "execution_count": 22,
   "id": "7448b81a-2954-499c-9b2f-05d816e948a6",
   "metadata": {},
   "outputs": [],
   "source": [
    "def isRoman(token):\n",
    "    return bool(re.search(r\"^M{0,3}(CM|CD|D?C{0,3})(XC|XL|L?X{0,3})(IX|IV|V?I{0,3})$\",token))"
   ]
  },
  {
   "cell_type": "code",
   "execution_count": 23,
   "id": "99f25f75-d549-4b31-b9a1-8a46eb44bd5b",
   "metadata": {},
   "outputs": [],
   "source": [
    "def law_detector(doc):\n",
    "    label = 'LEGISLACAO'\n",
    "    variations_n = ['n.', 'n.º', 'nº', 'n°.', 'n°']\n",
    "    variations_law = ['lei', 'decreto-lei', 'decreto', 'lc']\n",
    "    variations_art = ['arts.', 'arts', 'art.', 'artigo', 'art', 'artigos']\n",
    "    variations_paragraph = ['parágrafo', 'paragrafo', '§']\n",
    "    varitions_inciso = ['inciso', 'incisos', 'inc.']\n",
    "    variations_alinea = ['alinea', 'alínea']\n",
    "    laws_types = ['federal','complementar','municipal', 'estadual']\n",
    "    \n",
    "    \n",
    "    for token in doc: \n",
    "        #identificar leis\n",
    "        if token.text.lower() in variations_law:\n",
    "            if token.nbor(1).text[0].isdigit():\n",
    "                yield token.i, token.i+2, label\n",
    "            elif token.nbor(1).text.lower() in variations_n and token.nbor(2).text[0].isdigit():\n",
    "                yield token.i, token.i+3, label\n",
    "        \n",
    "        \n",
    "        elif token.text.lower() == 'lei' and token.nbor(1).text.lower() in laws_types:\n",
    "            if token.nbor(2).text[0].isdigit(): ##Lei Federal 9.093/95\n",
    "                yield token.i, token.i+3, label\n",
    "            if token.nbor(2).text.lower() in variations_n and token.nbor(3).text[0].isdigit(): ##Lei Federal nº 9.093/95\n",
    "                yield token.i, token.i+3, label\n",
    "        \n",
    "        #identificar artigos\n",
    "        elif token.text.lower() in variations_art:\n",
    "            if token.nbor(1).text[0].isdigit():\n",
    "                yield token.i, token.i+2, label\n",
    "            elif token.nbor(1).text == '.' and token.nbor(2).text[0].isdigit():\n",
    "                yield token.i, token.i+3, label\n",
    "        elif token.i > 3 and token.text[0].isdigit():\n",
    "            if token.nbor(-3).text.lower() == 'arts' or token.nbor(-4).text.lower() == 'arts':\n",
    "                yield token.i, token.i+1, label\n",
    "                \n",
    "        #identificar paragrafos\n",
    "        elif token.text in variations_paragraph:\n",
    "            if token.nbor(1).text[0].isdigit():\n",
    "                yield token.i, token.i+2, label\n",
    "            elif token.nbor(1).text.lower() == 'único': ##parágrafo único\n",
    "                yield token.i, token.i+2, label\n",
    "        \n",
    "        #identificar incisos\n",
    "        elif token.text.lower() in varitions_inciso:\n",
    "            if isRoman(token.nbor(1).text):\n",
    "                yield token.i, token.i+2, label\n",
    "                \n",
    "        elif token.i != 0 and token.i < len(doc)-1 and isRoman(token.text):\n",
    "            if token.nbor(-1).text in [',','e'] and token.nbor(1).text in [',','e']:\n",
    "                yield token.i, token.i+1, label\n",
    "                \n",
    "        elif token.i > 3 and isRoman(token.text):\n",
    "            if token.nbor(-3).text.lower() == 'incisos':#<--\n",
    "                yield token.i, token.i+1, label\n",
    "                \n",
    "        #identificar alineas\n",
    "        elif token.text.lower() in variations_alinea and len(token.nbor(1).text) == 1:\n",
    "            yield token.i, token.i+2, label\n",
    "        \n",
    "        #idenficar caput\n",
    "        elif token.text.lower() == 'caput':\n",
    "            yield token.i, token.i+1, label\n",
    "\n",
    "                    "
   ]
  },
  {
   "cell_type": "code",
   "execution_count": 24,
   "id": "bc7ae166-249a-46b4-a256-5364422931e9",
   "metadata": {},
   "outputs": [],
   "source": [
    "law_detector = FunctionAnnotator(\"law_detector\", law_detector)"
   ]
  },
  {
   "cell_type": "markdown",
   "id": "5484799b-ccda-4fe8-ba26-051e43c1647d",
   "metadata": {},
   "source": [
    "## Detecting named laws"
   ]
  },
  {
   "cell_type": "code",
   "execution_count": 25,
   "id": "7eac8eec-bbd0-45ac-8714-fff422289f9f",
   "metadata": {},
   "outputs": [
    {
     "name": "stderr",
     "output_type": "stream",
     "text": [
      "1080it [00:03, 297.04it/s]                                                                                                                                                                            \n"
     ]
    }
   ],
   "source": [
    "file = open('./apelidos_leis.csv')\n",
    "csv_reader = csv.reader(file, delimiter=';')\n",
    "next(csv_reader) #skip header\n",
    "names = []\n",
    "for row in tqdm(csv_reader, total=1046, position=0):\n",
    "    name = row[1]\n",
    "    tokenized_name = [t.text for t in nlp_pt(name)]\n",
    "    names.append(tokenized_name)"
   ]
  },
  {
   "cell_type": "code",
   "execution_count": 26,
   "id": "c14f70d0-9863-4f3c-80fa-6f5917ca9324",
   "metadata": {},
   "outputs": [],
   "source": [
    "trie = Trie(names)\n",
    "law_names_detector = GazetteerAnnotator('apelidos', {'LEGISLACAO':trie}, case_sensitive=False)"
   ]
  },
  {
   "cell_type": "markdown",
   "id": "c13bfd67-f433-4b86-aab6-0eb8734cf9f2",
   "metadata": {},
   "source": [
    "## Apply"
   ]
  },
  {
   "cell_type": "code",
   "execution_count": 27,
   "id": "0d3dcdba-d4bb-4789-a1a1-9023c3b9668f",
   "metadata": {},
   "outputs": [],
   "source": [
    "combined = CombinedAnnotator()\n",
    "combined.add_annotators(law_detector, law_names_detector)\n",
    "\n",
    "sentences = list(combined.pipe(sentences))"
   ]
  },
  {
   "cell_type": "markdown",
   "id": "b92a889f-1764-4954-8540-b19b9dc10251",
   "metadata": {},
   "source": [
    "# Aggregation"
   ]
  },
  {
   "cell_type": "code",
   "execution_count": 28,
   "id": "6e272201-a1b2-4c56-a2ff-8d30f101cf59",
   "metadata": {},
   "outputs": [],
   "source": [
    "#hmm = HMM(\"hmm\", [\"LEGISLACAO\",\"APELIDO\"])"
   ]
  },
  {
   "cell_type": "code",
   "execution_count": 29,
   "id": "2a5ae312-d2b6-4503-a9c3-457c7f527b5f",
   "metadata": {},
   "outputs": [],
   "source": [
    "#hmm.fit_and_aggregate([doc])"
   ]
  },
  {
   "cell_type": "markdown",
   "id": "d80b0c3f-1358-4bac-9ed0-4ce2881a067c",
   "metadata": {
    "tags": []
   },
   "source": [
    "# Visualize"
   ]
  },
  {
   "cell_type": "code",
   "execution_count": 30,
   "id": "d66dc77b-0fde-473b-b625-e5beba5dac09",
   "metadata": {},
   "outputs": [
    {
     "name": "stdout",
     "output_type": "stream",
     "text": [
      "2526 sentences labeled\n",
      "7362 labels found\n"
     ]
    }
   ],
   "source": [
    "#filter only labeled sentences\n",
    "sentences_labeled = []\n",
    "n_labels = 0\n",
    "for s in sentences:\n",
    "    if s.spans['law_detector'] or s.spans['apelidos']:\n",
    "        sentences_labeled.append(s)\n",
    "        \n",
    "        #count\n",
    "        n_labels += len(s.spans['law_detector'])\n",
    "        n_labels += len(s.spans['apelidos'])\n",
    "        \n",
    "    \n",
    "#docs_labeled = [d for d in docs if d.spans['law_detector'] or d.spans['apelidos']]\n",
    "\n",
    "print('{} sentences labeled'.format(len(sentences_labeled)))\n",
    "print('{} labels found'.format(n_labels))"
   ]
  },
  {
   "cell_type": "markdown",
   "id": "d6e42d4e-ed25-42d2-9a89-ae39b24ec714",
   "metadata": {},
   "source": [
    "## Random sentences"
   ]
  },
  {
   "cell_type": "code",
   "execution_count": 201,
   "id": "67574de7-21b5-4b94-9d74-a56dacdccc30",
   "metadata": {},
   "outputs": [],
   "source": [
    "start = 575\n",
    "end = 600"
   ]
  },
  {
   "cell_type": "code",
   "execution_count": 31,
   "id": "ce23eb30-1271-440e-a1a0-a16cd9a62d4f",
   "metadata": {},
   "outputs": [
    {
     "data": {
      "text/html": [
       "<span class=\"tex2jax_ignore\"><div class=\"entities\" style=\"line-height: 2.5; direction: ltr\"> No presente writ, a impetrante sustenta, em síntese, que o paciente preenche todos os requisitos exigidos à aplicação da causa especial de diminuição de pena (\n",
       "<mark class=\"entity\" style=\"background: #ddd; padding: 0.45em 0.6em; margin: 0 0.25em; line-height: 1; border-radius: 0.35em;\">\n",
       "    art. 33\n",
       "    <span style=\"font-size: 0.8em; font-weight: bold; line-height: 1; border-radius: 0.35em; vertical-align: middle; margin-left: 0.5rem\">LEGISLACAO</span>\n",
       "</mark>\n",
       ", \n",
       "<mark class=\"entity\" style=\"background: #ddd; padding: 0.45em 0.6em; margin: 0 0.25em; line-height: 1; border-radius: 0.35em;\">\n",
       "    § 4º\n",
       "    <span style=\"font-size: 0.8em; font-weight: bold; line-height: 1; border-radius: 0.35em; vertical-align: middle; margin-left: 0.5rem\">LEGISLACAO</span>\n",
       "</mark>\n",
       ", da \n",
       "<mark class=\"entity\" style=\"background: #ddd; padding: 0.45em 0.6em; margin: 0 0.25em; line-height: 1; border-radius: 0.35em;\">\n",
       "    Lei n. 11.343/06\n",
       "    <span style=\"font-size: 0.8em; font-weight: bold; line-height: 1; border-radius: 0.35em; vertical-align: middle; margin-left: 0.5rem\">LEGISLACAO</span>\n",
       "</mark>\n",
       ").</br></div></span>"
      ],
      "text/plain": [
       "<IPython.core.display.HTML object>"
      ]
     },
     "metadata": {},
     "output_type": "display_data"
    },
    {
     "name": "stdout",
     "output_type": "stream",
     "text": [
      "--------------------------------------\n"
     ]
    },
    {
     "data": {
      "text/html": [
       "<span class=\"tex2jax_ignore\"><div class=\"entities\" style=\"line-height: 2.5; direction: ltr\"> No caso, policiais civis, em decorrência de investigações prévias, surpreenderam o paciente trazendo consigo e tendo em depósito o total de 823,21 g de maconha, 536,22 g de cocaína, 1,13 g de crack e um comprimido de MDMA. Além dos entorpecentes, foram apreendidos, R$ 50,00 (cinquenta reais) em dinheiro, plásticos do tipo sacolé, 2 balanças de precisão, fermento em pó, colher e estilete com resquícios de drogas e uma agenda com anotações típicas do narcotráfico. O Juízo de primeiro grau, ao condená-lo por tráfico de drogas, deixou de aplicar a minorante prevista no \n",
       "<mark class=\"entity\" style=\"background: #ddd; padding: 0.45em 0.6em; margin: 0 0.25em; line-height: 1; border-radius: 0.35em;\">\n",
       "    § 4º\n",
       "    <span style=\"font-size: 0.8em; font-weight: bold; line-height: 1; border-radius: 0.35em; vertical-align: middle; margin-left: 0.5rem\">LEGISLACAO</span>\n",
       "</mark>\n",
       " do \n",
       "<mark class=\"entity\" style=\"background: #ddd; padding: 0.45em 0.6em; margin: 0 0.25em; line-height: 1; border-radius: 0.35em;\">\n",
       "    art. 33\n",
       "    <span style=\"font-size: 0.8em; font-weight: bold; line-height: 1; border-radius: 0.35em; vertical-align: middle; margin-left: 0.5rem\">LEGISLACAO</span>\n",
       "</mark>\n",
       " da \n",
       "<mark class=\"entity\" style=\"background: #ddd; padding: 0.45em 0.6em; margin: 0 0.25em; line-height: 1; border-radius: 0.35em;\">\n",
       "    Lei n. 11.343/06\n",
       "    <span style=\"font-size: 0.8em; font-weight: bold; line-height: 1; border-radius: 0.35em; vertical-align: middle; margin-left: 0.5rem\">LEGISLACAO</span>\n",
       "</mark>\n",
       ". O Tribunal a quo ratificou a sentença, conforme se extrai dos seguintes trechos:</br></div></span>"
      ],
      "text/plain": [
       "<IPython.core.display.HTML object>"
      ]
     },
     "metadata": {},
     "output_type": "display_data"
    },
    {
     "name": "stdout",
     "output_type": "stream",
     "text": [
      "--------------------------------------\n"
     ]
    },
    {
     "data": {
      "text/html": [
       "<span class=\"tex2jax_ignore\"><div class=\"entities\" style=\"line-height: 2.5; direction: ltr\"> Outrossim, na derradeira etapa do procedimento trifásico, apesar de ser o réu primário e portador de bons antecedentes, deixo de aplicar no caso em exame a causa de diminuição de pena prevista no \n",
       "<mark class=\"entity\" style=\"background: #ddd; padding: 0.45em 0.6em; margin: 0 0.25em; line-height: 1; border-radius: 0.35em;\">\n",
       "    art. 33\n",
       "    <span style=\"font-size: 0.8em; font-weight: bold; line-height: 1; border-radius: 0.35em; vertical-align: middle; margin-left: 0.5rem\">LEGISLACAO</span>\n",
       "</mark>\n",
       ", \n",
       "<mark class=\"entity\" style=\"background: #ddd; padding: 0.45em 0.6em; margin: 0 0.25em; line-height: 1; border-radius: 0.35em;\">\n",
       "    § 4º\n",
       "    <span style=\"font-size: 0.8em; font-weight: bold; line-height: 1; border-radius: 0.35em; vertical-align: middle; margin-left: 0.5rem\">LEGISLACAO</span>\n",
       "</mark>\n",
       ", da \n",
       "<mark class=\"entity\" style=\"background: #ddd; padding: 0.45em 0.6em; margin: 0 0.25em; line-height: 1; border-radius: 0.35em;\">\n",
       "    Lei nº 11.343/06\n",
       "    <span style=\"font-size: 0.8em; font-weight: bold; line-height: 1; border-radius: 0.35em; vertical-align: middle; margin-left: 0.5rem\">LEGISLACAO</span>\n",
       "</mark>\n",
       " (privilégio), eis que, tendo sido apreendida em seu poder expressiva quantidade de drogas 823,21 gramas de maconha e 536,22 gramas de cocaína, além de uma pedra de crack e um comprimido de ecstasy -, emerge cristalina a maior reprovabilidade de sua conduta e se evidencia que o agente realmente se dedica de forma</br></div></span>"
      ],
      "text/plain": [
       "<IPython.core.display.HTML object>"
      ]
     },
     "metadata": {},
     "output_type": "display_data"
    },
    {
     "name": "stdout",
     "output_type": "stream",
     "text": [
      "--------------------------------------\n"
     ]
    },
    {
     "data": {
      "text/html": [
       "<span class=\"tex2jax_ignore\"><div class=\"entities\" style=\"line-height: 2.5; direction: ltr\"> Na terceira fase da individualização, não é cabível a pretendida redução por aplicação do \n",
       "<mark class=\"entity\" style=\"background: #ddd; padding: 0.45em 0.6em; margin: 0 0.25em; line-height: 1; border-radius: 0.35em;\">\n",
       "    art. 33\n",
       "    <span style=\"font-size: 0.8em; font-weight: bold; line-height: 1; border-radius: 0.35em; vertical-align: middle; margin-left: 0.5rem\">LEGISLACAO</span>\n",
       "</mark>\n",
       ", \n",
       "<mark class=\"entity\" style=\"background: #ddd; padding: 0.45em 0.6em; margin: 0 0.25em; line-height: 1; border-radius: 0.35em;\">\n",
       "    § 4º\n",
       "    <span style=\"font-size: 0.8em; font-weight: bold; line-height: 1; border-radius: 0.35em; vertical-align: middle; margin-left: 0.5rem\">LEGISLACAO</span>\n",
       "</mark>\n",
       ", da \n",
       "<mark class=\"entity\" style=\"background: #ddd; padding: 0.45em 0.6em; margin: 0 0.25em; line-height: 1; border-radius: 0.35em;\">\n",
       "    Lei nº 11.343/06\n",
       "    <span style=\"font-size: 0.8em; font-weight: bold; line-height: 1; border-radius: 0.35em; vertical-align: middle; margin-left: 0.5rem\">LEGISLACAO</span>\n",
       "</mark>\n",
       ". Mostra-se inaplicável na espécie o dispositivo mencionado em razão da expressiva quantidade de drogas apreendidas, no caso, mais de um quilograma de cocaína e maconha, circunstância que não pode deixar de ser valorada, nos termos do \n",
       "<mark class=\"entity\" style=\"background: #ddd; padding: 0.45em 0.6em; margin: 0 0.25em; line-height: 1; border-radius: 0.35em;\">\n",
       "    art. 42\n",
       "    <span style=\"font-size: 0.8em; font-weight: bold; line-height: 1; border-radius: 0.35em; vertical-align: middle; margin-left: 0.5rem\">LEGISLACAO</span>\n",
       "</mark>\n",
       ", da Lei de Drogas. Note-se que o fato de o réu guardar a quantidade expressiva de entorpecentes que foram apreendidos é indicador seguro que se dedicava a atividades criminosas.&quot; (fl. 411)</br></div></span>"
      ],
      "text/plain": [
       "<IPython.core.display.HTML object>"
      ]
     },
     "metadata": {},
     "output_type": "display_data"
    },
    {
     "name": "stdout",
     "output_type": "stream",
     "text": [
      "--------------------------------------\n"
     ]
    },
    {
     "data": {
      "text/html": [
       "<span class=\"tex2jax_ignore\"><div class=\"entities\" style=\"line-height: 2.5; direction: ltr\"> dedicação ao tráfico de drogas, impedindo, assim, a aplicação do \n",
       "<mark class=\"entity\" style=\"background: #ddd; padding: 0.45em 0.6em; margin: 0 0.25em; line-height: 1; border-radius: 0.35em;\">\n",
       "    § 4º.\n",
       "    <span style=\"font-size: 0.8em; font-weight: bold; line-height: 1; border-radius: 0.35em; vertical-align: middle; margin-left: 0.5rem\">LEGISLACAO</span>\n",
       "</mark>\n",
       "</br></div></span>"
      ],
      "text/plain": [
       "<IPython.core.display.HTML object>"
      ]
     },
     "metadata": {},
     "output_type": "display_data"
    },
    {
     "name": "stdout",
     "output_type": "stream",
     "text": [
      "--------------------------------------\n"
     ]
    },
    {
     "data": {
      "text/html": [
       "<span class=\"tex2jax_ignore\"><div class=\"entities\" style=\"line-height: 2.5; direction: ltr\"> HABEAS CORPUS. PROCESSUAL PENAL. CRIMES DE TRÁFICO E ASSOCIAÇÃO PARA O TRÁFICO DE DROGAS. QUALIFICAÇÃO DE TESTEMUNHA MANTIDA SOB SIGILO, PERMITIDA SUA DIVULGAÇÃO APENAS AO ADVOGADO DOS ACUSADOS, JUIZ E PROMOTOR. CERCEAMENTO DE DEFESA. INEXISTÊNCIA. CONDENAÇÃO BASEADA EM OUTRAS PROVAS, COLHIDAS SOB O CRIVO DO CONTRADITÓRIO. MINORANTE PREVISTA NO \n",
       "<mark class=\"entity\" style=\"background: #ddd; padding: 0.45em 0.6em; margin: 0 0.25em; line-height: 1; border-radius: 0.35em;\">\n",
       "    § 4.º\n",
       "    <span style=\"font-size: 0.8em; font-weight: bold; line-height: 1; border-radius: 0.35em; vertical-align: middle; margin-left: 0.5rem\">LEGISLACAO</span>\n",
       "</mark>\n",
       " DO \n",
       "<mark class=\"entity\" style=\"background: #ddd; padding: 0.45em 0.6em; margin: 0 0.25em; line-height: 1; border-radius: 0.35em;\">\n",
       "    ART. 33\n",
       "    <span style=\"font-size: 0.8em; font-weight: bold; line-height: 1; border-radius: 0.35em; vertical-align: middle; margin-left: 0.5rem\">LEGISLACAO</span>\n",
       "</mark>\n",
       " DA NOVA LEI DE TÓXICOS. RÉU QUE SE DEDICA À ATIVIDADE CRIMINOSA. IMPOSSIBILIDADE. SUBSTITUIÇÃO DA PENA. PENA MAIOR QUE QUATRO ANOS. HABEAS CORPUS DENEGADO.</br></div></span>"
      ],
      "text/plain": [
       "<IPython.core.display.HTML object>"
      ]
     },
     "metadata": {},
     "output_type": "display_data"
    },
    {
     "name": "stdout",
     "output_type": "stream",
     "text": [
      "--------------------------------------\n"
     ]
    },
    {
     "data": {
      "text/html": [
       "<span class=\"tex2jax_ignore\"><div class=\"entities\" style=\"line-height: 2.5; direction: ltr\"> 3. Inaplicável a causa de diminuição de pena inserta no \n",
       "<mark class=\"entity\" style=\"background: #ddd; padding: 0.45em 0.6em; margin: 0 0.25em; line-height: 1; border-radius: 0.35em;\">\n",
       "    § 4.º\n",
       "    <span style=\"font-size: 0.8em; font-weight: bold; line-height: 1; border-radius: 0.35em; vertical-align: middle; margin-left: 0.5rem\">LEGISLACAO</span>\n",
       "</mark>\n",
       " do \n",
       "<mark class=\"entity\" style=\"background: #ddd; padding: 0.45em 0.6em; margin: 0 0.25em; line-height: 1; border-radius: 0.35em;\">\n",
       "    art. 33\n",
       "    <span style=\"font-size: 0.8em; font-weight: bold; line-height: 1; border-radius: 0.35em; vertical-align: middle; margin-left: 0.5rem\">LEGISLACAO</span>\n",
       "</mark>\n",
       " da \n",
       "<mark class=\"entity\" style=\"background: #ddd; padding: 0.45em 0.6em; margin: 0 0.25em; line-height: 1; border-radius: 0.35em;\">\n",
       "    Lei 11.343/2006\n",
       "    <span style=\"font-size: 0.8em; font-weight: bold; line-height: 1; border-radius: 0.35em; vertical-align: middle; margin-left: 0.5rem\">LEGISLACAO</span>\n",
       "</mark>\n",
       " na hipótese, na medida em que, conforme consignado pela sentença condenatória, mantida pelo acórdão de apelação impugnado, o Paciente não preenche os requisitos legais, tendo em vista se dedicar à atividade criminosa. E, não é possível, na estreita via do habeas corpus, rever a conclusão exarada pela instância ordinária, por demandar incabível reexame do conjunto fáticoprobatório. Precedentes.</br></div></span>"
      ],
      "text/plain": [
       "<IPython.core.display.HTML object>"
      ]
     },
     "metadata": {},
     "output_type": "display_data"
    },
    {
     "name": "stdout",
     "output_type": "stream",
     "text": [
      "--------------------------------------\n"
     ]
    },
    {
     "data": {
      "text/html": [
       "<span class=\"tex2jax_ignore\"><div class=\"entities\" style=\"line-height: 2.5; direction: ltr\"> PENAL. AGRAVO REGIMENTAL EM HABEAS CORPUS SUBSTITUTIVO DE RECURSO ESPECIAL. TRÁFICO DE DROGAS. PLEITO DE INCIDÊNCIA DA CAUSA DE DIMINUIÇÃO DA PENA (\n",
       "<mark class=\"entity\" style=\"background: #ddd; padding: 0.45em 0.6em; margin: 0 0.25em; line-height: 1; border-radius: 0.35em;\">\n",
       "    ART. 33\n",
       "    <span style=\"font-size: 0.8em; font-weight: bold; line-height: 1; border-radius: 0.35em; vertical-align: middle; margin-left: 0.5rem\">LEGISLACAO</span>\n",
       "</mark>\n",
       ", \n",
       "<mark class=\"entity\" style=\"background: #ddd; padding: 0.45em 0.6em; margin: 0 0.25em; line-height: 1; border-radius: 0.35em;\">\n",
       "    § 4º\n",
       "    <span style=\"font-size: 0.8em; font-weight: bold; line-height: 1; border-radius: 0.35em; vertical-align: middle; margin-left: 0.5rem\">LEGISLACAO</span>\n",
       "</mark>\n",
       ", DA \n",
       "<mark class=\"entity\" style=\"background: #ddd; padding: 0.45em 0.6em; margin: 0 0.25em; line-height: 1; border-radius: 0.35em;\">\n",
       "    LEI N. 11.343/2006\n",
       "    <span style=\"font-size: 0.8em; font-weight: bold; line-height: 1; border-radius: 0.35em; vertical-align: middle; margin-left: 0.5rem\">LEGISLACAO</span>\n",
       "</mark>\n",
       "). DEDICAÇÃO À ATIVIDADE CRIMINOSA. (98,5 G DE COCAÍNA EM PEDRA, 19,3 G DE COCAÍNA EM PÓ E 49,5 G DE MACONHA, DEVIDAMENTE ACONDICIONADAS PARA A MERCÂNCIA). CAUSA ESPECIAL DE AUMENTO (\n",
       "<mark class=\"entity\" style=\"background: #ddd; padding: 0.45em 0.6em; margin: 0 0.25em; line-height: 1; border-radius: 0.35em;\">\n",
       "    ART. 40\n",
       "    <span style=\"font-size: 0.8em; font-weight: bold; line-height: 1; border-radius: 0.35em; vertical-align: middle; margin-left: 0.5rem\">LEGISLACAO</span>\n",
       "</mark>\n",
       ", \n",
       "<mark class=\"entity\" style=\"background: #ddd; padding: 0.45em 0.6em; margin: 0 0.25em; line-height: 1; border-radius: 0.35em;\">\n",
       "    III\n",
       "    <span style=\"font-size: 0.8em; font-weight: bold; line-height: 1; border-radius: 0.35em; vertical-align: middle; margin-left: 0.5rem\">LEGISLACAO</span>\n",
       "</mark>\n",
       ", DA \n",
       "<mark class=\"entity\" style=\"background: #ddd; padding: 0.45em 0.6em; margin: 0 0.25em; line-height: 1; border-radius: 0.35em;\">\n",
       "    LEI N. 11.343/2006\n",
       "    <span style=\"font-size: 0.8em; font-weight: bold; line-height: 1; border-radius: 0.35em; vertical-align: middle; margin-left: 0.5rem\">LEGISLACAO</span>\n",
       "</mark>\n",
       "). PROXIMIDADE A TRÊS ESCOLAS E UM CENTRO DE RECREAÇÃO. COMPROVAÇÃO. AUSÊNCIA DE CONSTRANGIMENTO ILEGAL. REGIME INICIAL FECHADO. CIRCUNSTÂNCIAS JUDICIAIS DESFAVORÁVEIS. NATUREZA, E QUANTIDADE DE DROGAS. 300 &quot;PAPELOTES&quot; PARA REVENDA DE CRACK, MACONHA E COCAÍNA EM PÓ.</br></div></span>"
      ],
      "text/plain": [
       "<IPython.core.display.HTML object>"
      ]
     },
     "metadata": {},
     "output_type": "display_data"
    },
    {
     "name": "stdout",
     "output_type": "stream",
     "text": [
      "--------------------------------------\n"
     ]
    },
    {
     "data": {
      "text/html": [
       "<span class=\"tex2jax_ignore\"><div class=\"entities\" style=\"line-height: 2.5; direction: ltr\"> 2. A negativa de incidência da causa especial de diminuição da pena, prevista no \n",
       "<mark class=\"entity\" style=\"background: #ddd; padding: 0.45em 0.6em; margin: 0 0.25em; line-height: 1; border-radius: 0.35em;\">\n",
       "    art. 33\n",
       "    <span style=\"font-size: 0.8em; font-weight: bold; line-height: 1; border-radius: 0.35em; vertical-align: middle; margin-left: 0.5rem\">LEGISLACAO</span>\n",
       "</mark>\n",
       ", \n",
       "<mark class=\"entity\" style=\"background: #ddd; padding: 0.45em 0.6em; margin: 0 0.25em; line-height: 1; border-radius: 0.35em;\">\n",
       "    § 4º\n",
       "    <span style=\"font-size: 0.8em; font-weight: bold; line-height: 1; border-radius: 0.35em; vertical-align: middle; margin-left: 0.5rem\">LEGISLACAO</span>\n",
       "</mark>\n",
       ", da \n",
       "<mark class=\"entity\" style=\"background: #ddd; padding: 0.45em 0.6em; margin: 0 0.25em; line-height: 1; border-radius: 0.35em;\">\n",
       "    Lei n. 11.343/2006\n",
       "    <span style=\"font-size: 0.8em; font-weight: bold; line-height: 1; border-radius: 0.35em; vertical-align: middle; margin-left: 0.5rem\">LEGISLACAO</span>\n",
       "</mark>\n",
       ", deu-se em razão da convicção do julgador, com base nas provas dos autos, de existir dedicação à atividade criminosa, de modo que, alcançar conclusão inversa, demandaria reexame fático-probatório, inviável na via eleita .</br></div></span>"
      ],
      "text/plain": [
       "<IPython.core.display.HTML object>"
      ]
     },
     "metadata": {},
     "output_type": "display_data"
    },
    {
     "name": "stdout",
     "output_type": "stream",
     "text": [
      "--------------------------------------\n"
     ]
    },
    {
     "data": {
      "text/html": [
       "<span class=\"tex2jax_ignore\"><div class=\"entities\" style=\"line-height: 2.5; direction: ltr\"> HABEAS CORPUS. ESTELIONATO. FRAUDE À LICITAÇÃO. ABUSO DO PODER ECONÔMICO. PRISÃO PREVENTIVA. \n",
       "<mark class=\"entity\" style=\"background: #ddd; padding: 0.45em 0.6em; margin: 0 0.25em; line-height: 1; border-radius: 0.35em;\">\n",
       "    ART. 312\n",
       "    <span style=\"font-size: 0.8em; font-weight: bold; line-height: 1; border-radius: 0.35em; vertical-align: middle; margin-left: 0.5rem\">LEGISLACAO</span>\n",
       "</mark>\n",
       " DO \n",
       "<mark class=\"entity\" style=\"background: #ddd; padding: 0.45em 0.6em; margin: 0 0.25em; line-height: 1; border-radius: 0.35em;\">\n",
       "    CPP\n",
       "    <span style=\"font-size: 0.8em; font-weight: bold; line-height: 1; border-radius: 0.35em; vertical-align: middle; margin-left: 0.5rem\">LEGISLACAO</span>\n",
       "</mark>\n",
       ". PERICULUM LIBERTATIS. INDICAÇÃO NECESSÁRIA. FUNDAMENTAÇÃO INSUFICIENTE. ORDEM CONCEDIDA.</br></div></span>"
      ],
      "text/plain": [
       "<IPython.core.display.HTML object>"
      ]
     },
     "metadata": {},
     "output_type": "display_data"
    },
    {
     "name": "stdout",
     "output_type": "stream",
     "text": [
      "--------------------------------------\n"
     ]
    },
    {
     "data": {
      "text/html": [
       "<span class=\"tex2jax_ignore\"><div class=\"entities\" style=\"line-height: 2.5; direction: ltr\"> 1. A prisão preventiva é compatível com a presunção de não culpabilidade do acusado desde que não assuma natureza de antecipação da pena e não decorra, automaticamente, da natureza abstrata do crime ou do ato processual praticado (\n",
       "<mark class=\"entity\" style=\"background: #ddd; padding: 0.45em 0.6em; margin: 0 0.25em; line-height: 1; border-radius: 0.35em;\">\n",
       "    art. 313\n",
       "    <span style=\"font-size: 0.8em; font-weight: bold; line-height: 1; border-radius: 0.35em; vertical-align: middle; margin-left: 0.5rem\">LEGISLACAO</span>\n",
       "</mark>\n",
       ", \n",
       "<mark class=\"entity\" style=\"background: #ddd; padding: 0.45em 0.6em; margin: 0 0.25em; line-height: 1; border-radius: 0.35em;\">\n",
       "    § 2º\n",
       "    <span style=\"font-size: 0.8em; font-weight: bold; line-height: 1; border-radius: 0.35em; vertical-align: middle; margin-left: 0.5rem\">LEGISLACAO</span>\n",
       "</mark>\n",
       ", \n",
       "<mark class=\"entity\" style=\"background: #ddd; padding: 0.45em 0.6em; margin: 0 0.25em; line-height: 1; border-radius: 0.35em;\">\n",
       "    CPP\n",
       "    <span style=\"font-size: 0.8em; font-weight: bold; line-height: 1; border-radius: 0.35em; vertical-align: middle; margin-left: 0.5rem\">LEGISLACAO</span>\n",
       "</mark>\n",
       "). Além disso, a decisão judicial deve apoiar-se em motivos e fundamentos concretos, relativos a fatos novos ou contemporâneos, dos quais se se possa extrair o perigo que a liberdade plena do investigado ou réu representa para os meios ou os fins do processo penal (\n",
       "<mark class=\"entity\" style=\"background: #ddd; padding: 0.45em 0.6em; margin: 0 0.25em; line-height: 1; border-radius: 0.35em;\">\n",
       "    arts. 312\n",
       "    <span style=\"font-size: 0.8em; font-weight: bold; line-height: 1; border-radius: 0.35em; vertical-align: middle; margin-left: 0.5rem\">LEGISLACAO</span>\n",
       "</mark>\n",
       " e \n",
       "<mark class=\"entity\" style=\"background: #ddd; padding: 0.45em 0.6em; margin: 0 0.25em; line-height: 1; border-radius: 0.35em;\">\n",
       "    315\n",
       "    <span style=\"font-size: 0.8em; font-weight: bold; line-height: 1; border-radius: 0.35em; vertical-align: middle; margin-left: 0.5rem\">LEGISLACAO</span>\n",
       "</mark>\n",
       " do \n",
       "<mark class=\"entity\" style=\"background: #ddd; padding: 0.45em 0.6em; margin: 0 0.25em; line-height: 1; border-radius: 0.35em;\">\n",
       "    CPP\n",
       "    <span style=\"font-size: 0.8em; font-weight: bold; line-height: 1; border-radius: 0.35em; vertical-align: middle; margin-left: 0.5rem\">LEGISLACAO</span>\n",
       "</mark>\n",
       "). </br></div></span>"
      ],
      "text/plain": [
       "<IPython.core.display.HTML object>"
      ]
     },
     "metadata": {},
     "output_type": "display_data"
    },
    {
     "name": "stdout",
     "output_type": "stream",
     "text": [
      "--------------------------------------\n"
     ]
    },
    {
     "data": {
      "text/html": [
       "<span class=\"tex2jax_ignore\"><div class=\"entities\" style=\"line-height: 2.5; direction: ltr\"> 2. Deve, ainda, ficar concretamente evidenciado, na forma do \n",
       "<mark class=\"entity\" style=\"background: #ddd; padding: 0.45em 0.6em; margin: 0 0.25em; line-height: 1; border-radius: 0.35em;\">\n",
       "    art. 282\n",
       "    <span style=\"font-size: 0.8em; font-weight: bold; line-height: 1; border-radius: 0.35em; vertical-align: middle; margin-left: 0.5rem\">LEGISLACAO</span>\n",
       "</mark>\n",
       ", \n",
       "<mark class=\"entity\" style=\"background: #ddd; padding: 0.45em 0.6em; margin: 0 0.25em; line-height: 1; border-radius: 0.35em;\">\n",
       "    § 6º\n",
       "    <span style=\"font-size: 0.8em; font-weight: bold; line-height: 1; border-radius: 0.35em; vertical-align: middle; margin-left: 0.5rem\">LEGISLACAO</span>\n",
       "</mark>\n",
       " do \n",
       "<mark class=\"entity\" style=\"background: #ddd; padding: 0.45em 0.6em; margin: 0 0.25em; line-height: 1; border-radius: 0.35em;\">\n",
       "    CPP\n",
       "    <span style=\"font-size: 0.8em; font-weight: bold; line-height: 1; border-radius: 0.35em; vertical-align: middle; margin-left: 0.5rem\">LEGISLACAO</span>\n",
       "</mark>\n",
       ", que, presentes os motivos que autorizam a segregação provisória, não é suficiente e adequada a sua substituição por outra (s) medida (s) cautelar (es) menos invasivas à liberdade.</br></div></span>"
      ],
      "text/plain": [
       "<IPython.core.display.HTML object>"
      ]
     },
     "metadata": {},
     "output_type": "display_data"
    },
    {
     "name": "stdout",
     "output_type": "stream",
     "text": [
      "--------------------------------------\n"
     ]
    },
    {
     "data": {
      "text/html": [
       "<span class=\"tex2jax_ignore\"><div class=\"entities\" style=\"line-height: 2.5; direction: ltr\"> 3. O Juiz de primeira instância apontou genericamente a presença dos vetores contidos no \n",
       "<mark class=\"entity\" style=\"background: #ddd; padding: 0.45em 0.6em; margin: 0 0.25em; line-height: 1; border-radius: 0.35em;\">\n",
       "    art. 312\n",
       "    <span style=\"font-size: 0.8em; font-weight: bold; line-height: 1; border-radius: 0.35em; vertical-align: middle; margin-left: 0.5rem\">LEGISLACAO</span>\n",
       "</mark>\n",
       " do \n",
       "<mark class=\"entity\" style=\"background: #ddd; padding: 0.45em 0.6em; margin: 0 0.25em; line-height: 1; border-radius: 0.35em;\">\n",
       "    CPP\n",
       "    <span style=\"font-size: 0.8em; font-weight: bold; line-height: 1; border-radius: 0.35em; vertical-align: middle; margin-left: 0.5rem\">LEGISLACAO</span>\n",
       "</mark>\n",
       ", sem indicar motivação suficiente para decretar a prisão preventiva, pois, segundo a própria Corte a quo, as &quot;circunstâncias mencionadas (risco de reiteração delitiva em outros órgãos públicos de grande movimentação financeira, coação de testemunhas, obstrução das investigações, alienação do proveito ilícito e fuga) são suposições desacompanhadas de indicativos de comportamentos do paciente potencialmente comprometedores da ordem pública, da ordem econômica, da</br></div></span>"
      ],
      "text/plain": [
       "<IPython.core.display.HTML object>"
      ]
     },
     "metadata": {},
     "output_type": "display_data"
    },
    {
     "name": "stdout",
     "output_type": "stream",
     "text": [
      "--------------------------------------\n"
     ]
    },
    {
     "data": {
      "text/html": [
       "<span class=\"tex2jax_ignore\"><div class=\"entities\" style=\"line-height: 2.5; direction: ltr\"> 4. Habeas corpus concedido, para, confirmada a liminar, tornar sem efeito o decreto de prisão, sem prejuízo da possibilidade de nova decretação da prisão preventiva, se concretamente demonstrada sua necessidade cautelar, ou de imposição de medida alternativa, nos termos do \n",
       "<mark class=\"entity\" style=\"background: #ddd; padding: 0.45em 0.6em; margin: 0 0.25em; line-height: 1; border-radius: 0.35em;\">\n",
       "    art. 319\n",
       "    <span style=\"font-size: 0.8em; font-weight: bold; line-height: 1; border-radius: 0.35em; vertical-align: middle; margin-left: 0.5rem\">LEGISLACAO</span>\n",
       "</mark>\n",
       " do \n",
       "<mark class=\"entity\" style=\"background: #ddd; padding: 0.45em 0.6em; margin: 0 0.25em; line-height: 1; border-radius: 0.35em;\">\n",
       "    CPP\n",
       "    <span style=\"font-size: 0.8em; font-weight: bold; line-height: 1; border-radius: 0.35em; vertical-align: middle; margin-left: 0.5rem\">LEGISLACAO</span>\n",
       "</mark>\n",
       ". </br></div></span>"
      ],
      "text/plain": [
       "<IPython.core.display.HTML object>"
      ]
     },
     "metadata": {},
     "output_type": "display_data"
    },
    {
     "name": "stdout",
     "output_type": "stream",
     "text": [
      "--------------------------------------\n"
     ]
    },
    {
     "data": {
      "text/html": [
       "<span class=\"tex2jax_ignore\"><div class=\"entities\" style=\"line-height: 2.5; direction: ltr\"> Informam os autos que o paciente e Laurence Casagrande Lourenço (além de outros 13 corréus) foram denunciados como incursos nos \n",
       "<mark class=\"entity\" style=\"background: #ddd; padding: 0.45em 0.6em; margin: 0 0.25em; line-height: 1; border-radius: 0.35em;\">\n",
       "    arts. 171\n",
       "    <span style=\"font-size: 0.8em; font-weight: bold; line-height: 1; border-radius: 0.35em; vertical-align: middle; margin-left: 0.5rem\">LEGISLACAO</span>\n",
       "</mark>\n",
       ", \n",
       "<mark class=\"entity\" style=\"background: #ddd; padding: 0.45em 0.6em; margin: 0 0.25em; line-height: 1; border-radius: 0.35em;\">\n",
       "    § 3º\n",
       "    <span style=\"font-size: 0.8em; font-weight: bold; line-height: 1; border-radius: 0.35em; vertical-align: middle; margin-left: 0.5rem\">LEGISLACAO</span>\n",
       "</mark>\n",
       " e 288, ambos do \n",
       "<mark class=\"entity\" style=\"background: #ddd; padding: 0.45em 0.6em; margin: 0 0.25em; line-height: 1; border-radius: 0.35em;\">\n",
       "    Código Penal\n",
       "    <span style=\"font-size: 0.8em; font-weight: bold; line-height: 1; border-radius: 0.35em; vertical-align: middle; margin-left: 0.5rem\">LEGISLACAO</span>\n",
       "</mark>\n",
       "; 96, \n",
       "<mark class=\"entity\" style=\"background: #ddd; padding: 0.45em 0.6em; margin: 0 0.25em; line-height: 1; border-radius: 0.35em;\">\n",
       "    I\n",
       "    <span style=\"font-size: 0.8em; font-weight: bold; line-height: 1; border-radius: 0.35em; vertical-align: middle; margin-left: 0.5rem\">LEGISLACAO</span>\n",
       "</mark>\n",
       ", da \n",
       "<mark class=\"entity\" style=\"background: #ddd; padding: 0.45em 0.6em; margin: 0 0.25em; line-height: 1; border-radius: 0.35em;\">\n",
       "    Lei 8.666/1993\n",
       "    <span style=\"font-size: 0.8em; font-weight: bold; line-height: 1; border-radius: 0.35em; vertical-align: middle; margin-left: 0.5rem\">LEGISLACAO</span>\n",
       "</mark>\n",
       " e 4º, \n",
       "<mark class=\"entity\" style=\"background: #ddd; padding: 0.45em 0.6em; margin: 0 0.25em; line-height: 1; border-radius: 0.35em;\">\n",
       "    I\n",
       "    <span style=\"font-size: 0.8em; font-weight: bold; line-height: 1; border-radius: 0.35em; vertical-align: middle; margin-left: 0.5rem\">LEGISLACAO</span>\n",
       "</mark>\n",
       " e \n",
       "<mark class=\"entity\" style=\"background: #ddd; padding: 0.45em 0.6em; margin: 0 0.25em; line-height: 1; border-radius: 0.35em;\">\n",
       "    II\n",
       "    <span style=\"font-size: 0.8em; font-weight: bold; line-height: 1; border-radius: 0.35em; vertical-align: middle; margin-left: 0.5rem\">LEGISLACAO</span>\n",
       "</mark>\n",
       ", ‘b’, da \n",
       "<mark class=\"entity\" style=\"background: #ddd; padding: 0.45em 0.6em; margin: 0 0.25em; line-height: 1; border-radius: 0.35em;\">\n",
       "    Lei n. 8.137/1990\n",
       "    <span style=\"font-size: 0.8em; font-weight: bold; line-height: 1; border-radius: 0.35em; vertical-align: middle; margin-left: 0.5rem\">LEGISLACAO</span>\n",
       "</mark>\n",
       ", no âmbito da Operação “Pedra no Caminho”, que apura supostas irregularidades na celebração de aditivos contratuais entre a sociedade de economia mista estadual DERSA e construtoras responsáveis pela execução das obras do Trecho Norte do Rodoanel.</br></div></span>"
      ],
      "text/plain": [
       "<IPython.core.display.HTML object>"
      ]
     },
     "metadata": {},
     "output_type": "display_data"
    },
    {
     "name": "stdout",
     "output_type": "stream",
     "text": [
      "--------------------------------------\n"
     ]
    },
    {
     "data": {
      "text/html": [
       "<span class=\"tex2jax_ignore\"><div class=\"entities\" style=\"line-height: 2.5; direction: ltr\"> Pede &quot;a concessão da liminar requerida para a imediata extensão dos efeitos da decisão de mérito exarada nos autos do Habeas Corpus n. 5015124-83.2018.4.03.0000 a PEDRO DA SILVA, revogando-se a prisão preventiva decretada em seu desfavor, tendo em vista a inegável equivalência entre sua situação e a do Paciente naqueles autos, bem como a identidade dos argumentos suscitados na decisão que determinou a custódia de ambos em 29/06/2018, conforme o \n",
       "<mark class=\"entity\" style=\"background: #ddd; padding: 0.45em 0.6em; margin: 0 0.25em; line-height: 1; border-radius: 0.35em;\">\n",
       "    art. 580\n",
       "    <span style=\"font-size: 0.8em; font-weight: bold; line-height: 1; border-radius: 0.35em; vertical-align: middle; margin-left: 0.5rem\">LEGISLACAO</span>\n",
       "</mark>\n",
       " do \n",
       "<mark class=\"entity\" style=\"background: #ddd; padding: 0.45em 0.6em; margin: 0 0.25em; line-height: 1; border-radius: 0.35em;\">\n",
       "    Código de Processo Penal\n",
       "    <span style=\"font-size: 0.8em; font-weight: bold; line-height: 1; border-radius: 0.35em; vertical-align: middle; margin-left: 0.5rem\">LEGISLACAO</span>\n",
       "</mark>\n",
       "&quot;.</br></div></span>"
      ],
      "text/plain": [
       "<IPython.core.display.HTML object>"
      ]
     },
     "metadata": {},
     "output_type": "display_data"
    },
    {
     "name": "stdout",
     "output_type": "stream",
     "text": [
      "--------------------------------------\n"
     ]
    },
    {
     "data": {
      "text/html": [
       "<span class=\"tex2jax_ignore\"><div class=\"entities\" style=\"line-height: 2.5; direction: ltr\"> HABEAS CORPUS. ESTELIONATO. FRAUDE À LICITAÇÃO. ABUSO DO PODER ECONÔMICO. PRISÃO PREVENTIVA. \n",
       "<mark class=\"entity\" style=\"background: #ddd; padding: 0.45em 0.6em; margin: 0 0.25em; line-height: 1; border-radius: 0.35em;\">\n",
       "    ART. 312\n",
       "    <span style=\"font-size: 0.8em; font-weight: bold; line-height: 1; border-radius: 0.35em; vertical-align: middle; margin-left: 0.5rem\">LEGISLACAO</span>\n",
       "</mark>\n",
       " DO \n",
       "<mark class=\"entity\" style=\"background: #ddd; padding: 0.45em 0.6em; margin: 0 0.25em; line-height: 1; border-radius: 0.35em;\">\n",
       "    CPP\n",
       "    <span style=\"font-size: 0.8em; font-weight: bold; line-height: 1; border-radius: 0.35em; vertical-align: middle; margin-left: 0.5rem\">LEGISLACAO</span>\n",
       "</mark>\n",
       ". PERICULUM LIBERTATIS. INDICAÇÃO NECESSÁRIA. FUNDAMENTAÇÃO INSUFICIENTE. ORDEM CONCEDIDA.</br></div></span>"
      ],
      "text/plain": [
       "<IPython.core.display.HTML object>"
      ]
     },
     "metadata": {},
     "output_type": "display_data"
    },
    {
     "name": "stdout",
     "output_type": "stream",
     "text": [
      "--------------------------------------\n"
     ]
    },
    {
     "data": {
      "text/html": [
       "<span class=\"tex2jax_ignore\"><div class=\"entities\" style=\"line-height: 2.5; direction: ltr\"> 1. A prisão preventiva é compatível com a presunção de não culpabilidade do acusado desde que não assuma natureza de antecipação da pena e não decorra, automaticamente, da natureza abstrata do crime ou do ato processual praticado (\n",
       "<mark class=\"entity\" style=\"background: #ddd; padding: 0.45em 0.6em; margin: 0 0.25em; line-height: 1; border-radius: 0.35em;\">\n",
       "    art. 313\n",
       "    <span style=\"font-size: 0.8em; font-weight: bold; line-height: 1; border-radius: 0.35em; vertical-align: middle; margin-left: 0.5rem\">LEGISLACAO</span>\n",
       "</mark>\n",
       ", \n",
       "<mark class=\"entity\" style=\"background: #ddd; padding: 0.45em 0.6em; margin: 0 0.25em; line-height: 1; border-radius: 0.35em;\">\n",
       "    § 2º\n",
       "    <span style=\"font-size: 0.8em; font-weight: bold; line-height: 1; border-radius: 0.35em; vertical-align: middle; margin-left: 0.5rem\">LEGISLACAO</span>\n",
       "</mark>\n",
       ", \n",
       "<mark class=\"entity\" style=\"background: #ddd; padding: 0.45em 0.6em; margin: 0 0.25em; line-height: 1; border-radius: 0.35em;\">\n",
       "    CPP\n",
       "    <span style=\"font-size: 0.8em; font-weight: bold; line-height: 1; border-radius: 0.35em; vertical-align: middle; margin-left: 0.5rem\">LEGISLACAO</span>\n",
       "</mark>\n",
       "). Além disso, a decisão judicial deve apoiar-se em motivos e fundamentos concretos, relativos a fatos novos ou contemporâneos, dos quais se se possa extrair o perigo que a liberdade plena do investigado ou réu representa para os meios ou os fins do processo penal (\n",
       "<mark class=\"entity\" style=\"background: #ddd; padding: 0.45em 0.6em; margin: 0 0.25em; line-height: 1; border-radius: 0.35em;\">\n",
       "    arts. 312\n",
       "    <span style=\"font-size: 0.8em; font-weight: bold; line-height: 1; border-radius: 0.35em; vertical-align: middle; margin-left: 0.5rem\">LEGISLACAO</span>\n",
       "</mark>\n",
       " e \n",
       "<mark class=\"entity\" style=\"background: #ddd; padding: 0.45em 0.6em; margin: 0 0.25em; line-height: 1; border-radius: 0.35em;\">\n",
       "    315\n",
       "    <span style=\"font-size: 0.8em; font-weight: bold; line-height: 1; border-radius: 0.35em; vertical-align: middle; margin-left: 0.5rem\">LEGISLACAO</span>\n",
       "</mark>\n",
       " do \n",
       "<mark class=\"entity\" style=\"background: #ddd; padding: 0.45em 0.6em; margin: 0 0.25em; line-height: 1; border-radius: 0.35em;\">\n",
       "    CPP\n",
       "    <span style=\"font-size: 0.8em; font-weight: bold; line-height: 1; border-radius: 0.35em; vertical-align: middle; margin-left: 0.5rem\">LEGISLACAO</span>\n",
       "</mark>\n",
       "). </br></div></span>"
      ],
      "text/plain": [
       "<IPython.core.display.HTML object>"
      ]
     },
     "metadata": {},
     "output_type": "display_data"
    },
    {
     "name": "stdout",
     "output_type": "stream",
     "text": [
      "--------------------------------------\n"
     ]
    },
    {
     "data": {
      "text/html": [
       "<span class=\"tex2jax_ignore\"><div class=\"entities\" style=\"line-height: 2.5; direction: ltr\"> 2. Deve, ainda, ficar concretamente evidenciado, na forma do \n",
       "<mark class=\"entity\" style=\"background: #ddd; padding: 0.45em 0.6em; margin: 0 0.25em; line-height: 1; border-radius: 0.35em;\">\n",
       "    art. 282\n",
       "    <span style=\"font-size: 0.8em; font-weight: bold; line-height: 1; border-radius: 0.35em; vertical-align: middle; margin-left: 0.5rem\">LEGISLACAO</span>\n",
       "</mark>\n",
       ", \n",
       "<mark class=\"entity\" style=\"background: #ddd; padding: 0.45em 0.6em; margin: 0 0.25em; line-height: 1; border-radius: 0.35em;\">\n",
       "    § 6º\n",
       "    <span style=\"font-size: 0.8em; font-weight: bold; line-height: 1; border-radius: 0.35em; vertical-align: middle; margin-left: 0.5rem\">LEGISLACAO</span>\n",
       "</mark>\n",
       " do \n",
       "<mark class=\"entity\" style=\"background: #ddd; padding: 0.45em 0.6em; margin: 0 0.25em; line-height: 1; border-radius: 0.35em;\">\n",
       "    CPP\n",
       "    <span style=\"font-size: 0.8em; font-weight: bold; line-height: 1; border-radius: 0.35em; vertical-align: middle; margin-left: 0.5rem\">LEGISLACAO</span>\n",
       "</mark>\n",
       ", que, presentes os motivos que autorizam a segregação provisória, não é suficiente e adequada a sua substituição por outra (s) medida (s) cautelar (es) menos invasivas à liberdade.</br></div></span>"
      ],
      "text/plain": [
       "<IPython.core.display.HTML object>"
      ]
     },
     "metadata": {},
     "output_type": "display_data"
    },
    {
     "name": "stdout",
     "output_type": "stream",
     "text": [
      "--------------------------------------\n"
     ]
    },
    {
     "data": {
      "text/html": [
       "<span class=\"tex2jax_ignore\"><div class=\"entities\" style=\"line-height: 2.5; direction: ltr\"> 3. O Juiz de primeira instância apontou genericamente a presença dos vetores contidos no \n",
       "<mark class=\"entity\" style=\"background: #ddd; padding: 0.45em 0.6em; margin: 0 0.25em; line-height: 1; border-radius: 0.35em;\">\n",
       "    art. 312\n",
       "    <span style=\"font-size: 0.8em; font-weight: bold; line-height: 1; border-radius: 0.35em; vertical-align: middle; margin-left: 0.5rem\">LEGISLACAO</span>\n",
       "</mark>\n",
       " do \n",
       "<mark class=\"entity\" style=\"background: #ddd; padding: 0.45em 0.6em; margin: 0 0.25em; line-height: 1; border-radius: 0.35em;\">\n",
       "    CPP\n",
       "    <span style=\"font-size: 0.8em; font-weight: bold; line-height: 1; border-radius: 0.35em; vertical-align: middle; margin-left: 0.5rem\">LEGISLACAO</span>\n",
       "</mark>\n",
       ", sem indicar motivação suficiente para decretar a prisão preventiva, pois, segundo a própria Corte a quo, as &quot;circunstâncias mencionadas (risco de reiteração delitiva em outros órgãos públicos de grande movimentação financeira, coação de testemunhas, obstrução das investigações, alienação do proveito ilícito e fuga) são suposições desacompanhadas de indicativos de comportamentos do paciente potencialmente comprometedores da ordem pública, da ordem econômica, da aplicação da lei penal ou da instrução probatória&quot;.</br></div></span>"
      ],
      "text/plain": [
       "<IPython.core.display.HTML object>"
      ]
     },
     "metadata": {},
     "output_type": "display_data"
    },
    {
     "name": "stdout",
     "output_type": "stream",
     "text": [
      "--------------------------------------\n"
     ]
    },
    {
     "data": {
      "text/html": [
       "<span class=\"tex2jax_ignore\"><div class=\"entities\" style=\"line-height: 2.5; direction: ltr\"> 4. Habeas corpus concedido, para, confirmada a liminar, tornar sem efeito o decreto de prisão, sem prejuízo da possibilidade de nova decretação da prisão preventiva, se concretamente demonstrada sua necessidade cautelar, ou de imposição de medida alternativa, nos termos do \n",
       "<mark class=\"entity\" style=\"background: #ddd; padding: 0.45em 0.6em; margin: 0 0.25em; line-height: 1; border-radius: 0.35em;\">\n",
       "    art. 319\n",
       "    <span style=\"font-size: 0.8em; font-weight: bold; line-height: 1; border-radius: 0.35em; vertical-align: middle; margin-left: 0.5rem\">LEGISLACAO</span>\n",
       "</mark>\n",
       " do \n",
       "<mark class=\"entity\" style=\"background: #ddd; padding: 0.45em 0.6em; margin: 0 0.25em; line-height: 1; border-radius: 0.35em;\">\n",
       "    CPP\n",
       "    <span style=\"font-size: 0.8em; font-weight: bold; line-height: 1; border-radius: 0.35em; vertical-align: middle; margin-left: 0.5rem\">LEGISLACAO</span>\n",
       "</mark>\n",
       ". </br></div></span>"
      ],
      "text/plain": [
       "<IPython.core.display.HTML object>"
      ]
     },
     "metadata": {},
     "output_type": "display_data"
    },
    {
     "name": "stdout",
     "output_type": "stream",
     "text": [
      "--------------------------------------\n"
     ]
    },
    {
     "data": {
      "text/html": [
       "<span class=\"tex2jax_ignore\"><div class=\"entities\" style=\"line-height: 2.5; direction: ltr\"> Trata-se de investigação que visa a apurar a autoria e materialidade delitiva de crimes previstos no \n",
       "<mark class=\"entity\" style=\"background: #ddd; padding: 0.45em 0.6em; margin: 0 0.25em; line-height: 1; border-radius: 0.35em;\">\n",
       "    artigo 171\n",
       "    <span style=\"font-size: 0.8em; font-weight: bold; line-height: 1; border-radius: 0.35em; vertical-align: middle; margin-left: 0.5rem\">LEGISLACAO</span>\n",
       "</mark>\n",
       ", \n",
       "<mark class=\"entity\" style=\"background: #ddd; padding: 0.45em 0.6em; margin: 0 0.25em; line-height: 1; border-radius: 0.35em;\">\n",
       "    § 3º\n",
       "    <span style=\"font-size: 0.8em; font-weight: bold; line-height: 1; border-radius: 0.35em; vertical-align: middle; margin-left: 0.5rem\">LEGISLACAO</span>\n",
       "</mark>\n",
       " e \n",
       "<mark class=\"entity\" style=\"background: #ddd; padding: 0.45em 0.6em; margin: 0 0.25em; line-height: 1; border-radius: 0.35em;\">\n",
       "    artigo 288\n",
       "    <span style=\"font-size: 0.8em; font-weight: bold; line-height: 1; border-radius: 0.35em; vertical-align: middle; margin-left: 0.5rem\">LEGISLACAO</span>\n",
       "</mark>\n",
       ", ambos do \n",
       "<mark class=\"entity\" style=\"background: #ddd; padding: 0.45em 0.6em; margin: 0 0.25em; line-height: 1; border-radius: 0.35em;\">\n",
       "    Código Penal\n",
       "    <span style=\"font-size: 0.8em; font-weight: bold; line-height: 1; border-radius: 0.35em; vertical-align: middle; margin-left: 0.5rem\">LEGISLACAO</span>\n",
       "</mark>\n",
       ", bem como no \n",
       "<mark class=\"entity\" style=\"background: #ddd; padding: 0.45em 0.6em; margin: 0 0.25em; line-height: 1; border-radius: 0.35em;\">\n",
       "    artigo 96\n",
       "    <span style=\"font-size: 0.8em; font-weight: bold; line-height: 1; border-radius: 0.35em; vertical-align: middle; margin-left: 0.5rem\">LEGISLACAO</span>\n",
       "</mark>\n",
       ", \n",
       "<mark class=\"entity\" style=\"background: #ddd; padding: 0.45em 0.6em; margin: 0 0.25em; line-height: 1; border-radius: 0.35em;\">\n",
       "    inciso I\n",
       "    <span style=\"font-size: 0.8em; font-weight: bold; line-height: 1; border-radius: 0.35em; vertical-align: middle; margin-left: 0.5rem\">LEGISLACAO</span>\n",
       "</mark>\n",
       " da \n",
       "<mark class=\"entity\" style=\"background: #ddd; padding: 0.45em 0.6em; margin: 0 0.25em; line-height: 1; border-radius: 0.35em;\">\n",
       "    Lei nº 8.666/1993\n",
       "    <span style=\"font-size: 0.8em; font-weight: bold; line-height: 1; border-radius: 0.35em; vertical-align: middle; margin-left: 0.5rem\">LEGISLACAO</span>\n",
       "</mark>\n",
       " e no \n",
       "<mark class=\"entity\" style=\"background: #ddd; padding: 0.45em 0.6em; margin: 0 0.25em; line-height: 1; border-radius: 0.35em;\">\n",
       "    artigo 4º\n",
       "    <span style=\"font-size: 0.8em; font-weight: bold; line-height: 1; border-radius: 0.35em; vertical-align: middle; margin-left: 0.5rem\">LEGISLACAO</span>\n",
       "</mark>\n",
       " incisos e alínea da \n",
       "<mark class=\"entity\" style=\"background: #ddd; padding: 0.45em 0.6em; margin: 0 0.25em; line-height: 1; border-radius: 0.35em;\">\n",
       "    Lei nº 8.137/1990\n",
       "    <span style=\"font-size: 0.8em; font-weight: bold; line-height: 1; border-radius: 0.35em; vertical-align: middle; margin-left: 0.5rem\">LEGISLACAO</span>\n",
       "</mark>\n",
       ", praticados em tese por uma organização criminosa voltada à corrupção e desvio de verbas públicas relacionadas às obras de construção do Rodoanel Viário Mário Covas - Trecho Norte.</br></div></span>"
      ],
      "text/plain": [
       "<IPython.core.display.HTML object>"
      ]
     },
     "metadata": {},
     "output_type": "display_data"
    },
    {
     "name": "stdout",
     "output_type": "stream",
     "text": [
      "--------------------------------------\n"
     ]
    },
    {
     "data": {
      "text/html": [
       "<span class=\"tex2jax_ignore\"><div class=\"entities\" style=\"line-height: 2.5; direction: ltr\"> Entendo que se encontram presentes os requisitos para a decretação da prisão preventiva dos investigados, estabelecidos no \n",
       "<mark class=\"entity\" style=\"background: #ddd; padding: 0.45em 0.6em; margin: 0 0.25em; line-height: 1; border-radius: 0.35em;\">\n",
       "    artigo 312\n",
       "    <span style=\"font-size: 0.8em; font-weight: bold; line-height: 1; border-radius: 0.35em; vertical-align: middle; margin-left: 0.5rem\">LEGISLACAO</span>\n",
       "</mark>\n",
       " do \n",
       "<mark class=\"entity\" style=\"background: #ddd; padding: 0.45em 0.6em; margin: 0 0.25em; line-height: 1; border-radius: 0.35em;\">\n",
       "    Código de Processo Penal\n",
       "    <span style=\"font-size: 0.8em; font-weight: bold; line-height: 1; border-radius: 0.35em; vertical-align: middle; margin-left: 0.5rem\">LEGISLACAO</span>\n",
       "</mark>\n",
       ".</br></div></span>"
      ],
      "text/plain": [
       "<IPython.core.display.HTML object>"
      ]
     },
     "metadata": {},
     "output_type": "display_data"
    },
    {
     "name": "stdout",
     "output_type": "stream",
     "text": [
      "--------------------------------------\n"
     ]
    },
    {
     "data": {
      "text/html": [
       "<span class=\"tex2jax_ignore\"><div class=\"entities\" style=\"line-height: 2.5; direction: ltr\"> por meio do devido processo legal previsto no \n",
       "<mark class=\"entity\" style=\"background: #ddd; padding: 0.45em 0.6em; margin: 0 0.25em; line-height: 1; border-radius: 0.35em;\">\n",
       "    Decreto-Lei n. 3689/1941\n",
       "    <span style=\"font-size: 0.8em; font-weight: bold; line-height: 1; border-radius: 0.35em; vertical-align: middle; margin-left: 0.5rem\">LEGISLACAO</span>\n",
       "</mark>\n",
       " (\n",
       "<mark class=\"entity\" style=\"background: #ddd; padding: 0.45em 0.6em; margin: 0 0.25em; line-height: 1; border-radius: 0.35em;\">\n",
       "    Código de Processo Penal\n",
       "    <span style=\"font-size: 0.8em; font-weight: bold; line-height: 1; border-radius: 0.35em; vertical-align: middle; margin-left: 0.5rem\">LEGISLACAO</span>\n",
       "</mark>\n",
       ").</br></div></span>"
      ],
      "text/plain": [
       "<IPython.core.display.HTML object>"
      ]
     },
     "metadata": {},
     "output_type": "display_data"
    },
    {
     "name": "stdout",
     "output_type": "stream",
     "text": [
      "--------------------------------------\n"
     ]
    },
    {
     "data": {
      "text/html": [
       "<span class=\"tex2jax_ignore\"><div class=\"entities\" style=\"line-height: 2.5; direction: ltr\"> Conforme exposto nesta decisão, verifico que se encontram presentes os requisitos para a decretação da prisão preventiva, estabelecidos no \n",
       "<mark class=\"entity\" style=\"background: #ddd; padding: 0.45em 0.6em; margin: 0 0.25em; line-height: 1; border-radius: 0.35em;\">\n",
       "    artigo 312\n",
       "    <span style=\"font-size: 0.8em; font-weight: bold; line-height: 1; border-radius: 0.35em; vertical-align: middle; margin-left: 0.5rem\">LEGISLACAO</span>\n",
       "</mark>\n",
       " do \n",
       "<mark class=\"entity\" style=\"background: #ddd; padding: 0.45em 0.6em; margin: 0 0.25em; line-height: 1; border-radius: 0.35em;\">\n",
       "    Código de Processo Penal\n",
       "    <span style=\"font-size: 0.8em; font-weight: bold; line-height: 1; border-radius: 0.35em; vertical-align: middle; margin-left: 0.5rem\">LEGISLACAO</span>\n",
       "</mark>\n",
       ", consubstanciados na prova da existência dos crimes (materialidade delitiva) e indícios suficientes</br></div></span>"
      ],
      "text/plain": [
       "<IPython.core.display.HTML object>"
      ]
     },
     "metadata": {},
     "output_type": "display_data"
    },
    {
     "name": "stdout",
     "output_type": "stream",
     "text": [
      "--------------------------------------\n"
     ]
    }
   ],
   "source": [
    "#random.shuffle(sentences_labeled)\n",
    "for s in sentences_labeled[start:end]:\n",
    "    display_entities(s, ['law_detector','apelidos'])\n",
    "    print('--------------------------------------')\n",
    "\n",
    "start += 25\n",
    "end += 25"
   ]
  },
  {
   "cell_type": "markdown",
   "id": "14576fd9-16d3-4bbb-bb1e-e751fa6416d5",
   "metadata": {},
   "source": [
    "## Split train and test datasets"
   ]
  },
  {
   "cell_type": "code",
   "execution_count": 17,
   "id": "fb4e31f8-deee-4cc7-bedd-d73e6811ed35",
   "metadata": {},
   "outputs": [],
   "source": [
    "test_size_per = 0.15"
   ]
  },
  {
   "cell_type": "code",
   "execution_count": 32,
   "id": "a154ab5c-9900-4bb5-83df-a52cbead020d",
   "metadata": {},
   "outputs": [
    {
     "name": "stdout",
     "output_type": "stream",
     "text": [
      "Tamanho do conjunto de treinamento: 2142\n",
      "Tamanho do conjunto de teste: 378\n"
     ]
    }
   ],
   "source": [
    "split = int(len(sentences_labeled) * (1-test_size_per))\n",
    "print('Tamanho do conjunto de treinamento: {}'.format(split))\n",
    "print('Tamanho do conjunto de teste: {}'.format(len(sentences_labeled)-split))"
   ]
  },
  {
   "cell_type": "code",
   "execution_count": 30,
   "id": "9cf51c8b-5464-4ca4-9330-9f07c8a6aca2",
   "metadata": {},
   "outputs": [],
   "source": [
    "sentences_train_labeled = sentences_labeled[:split]\n",
    "sentences_test_labeled = sentences_labeled[split:]"
   ]
  },
  {
   "cell_type": "markdown",
   "id": "33439568-b556-45a0-84d1-bd9ed8ae99a9",
   "metadata": {
    "tags": []
   },
   "source": [
    "# Save"
   ]
  },
  {
   "cell_type": "code",
   "execution_count": null,
   "id": "be95acec-3e20-49ea-aa80-60d317e81fee",
   "metadata": {},
   "outputs": [],
   "source": [
    "def see_tokenization(sentence):\n",
    "    doc = nlp_pt(sentence)\n",
    "    for t in doc:\n",
    "        print(t)\n",
    "\n",
    "def check_labels_skweak(sentence):\n",
    "    doc = [nlp_pt(sentence)]\n",
    "    sentence_labeled = list(combined.pipe(doc))[0]\n",
    "    display_entities(sentence_labeled, ['law_detector','apelidos'])"
   ]
  },
  {
   "cell_type": "code",
   "execution_count": null,
   "id": "f9d28550-9723-42f5-8194-c9d30f6dfcfa",
   "metadata": {},
   "outputs": [
    {
     "data": {
      "text/html": [
       "<span class=\"tex2jax_ignore\"><div class=\"entities\" style=\"line-height: 2.5; direction: ltr\">As hipóteses dos \n",
       "<mark class=\"entity\" style=\"background: #ddd; padding: 0.45em 0.6em; margin: 0 0.25em; line-height: 1; border-radius: 0.35em;\">\n",
       "    incisos III\n",
       "    <span style=\"font-size: 0.8em; font-weight: bold; line-height: 1; border-radius: 0.35em; vertical-align: middle; margin-left: 0.5rem\">LEGISLACAO</span>\n",
       "</mark>\n",
       " e \n",
       "<mark class=\"entity\" style=\"background: #ddd; padding: 0.45em 0.6em; margin: 0 0.25em; line-height: 1; border-radius: 0.35em;\">\n",
       "    IV\n",
       "    <span style=\"font-size: 0.8em; font-weight: bold; line-height: 1; border-radius: 0.35em; vertical-align: middle; margin-left: 0.5rem\">LEGISLACAO</span>\n",
       "</mark>\n",
       " compreendem a </div></span>"
      ],
      "text/plain": [
       "<IPython.core.display.HTML object>"
      ]
     },
     "metadata": {},
     "output_type": "display_data"
    },
    {
     "name": "stdout",
     "output_type": "stream",
     "text": [
      "As\n",
      "hipóteses\n",
      "dos\n",
      "incisos\n",
      "III\n",
      "e\n",
      "IV\n",
      "compreendem\n",
      "a\n"
     ]
    }
   ],
   "source": [
    "text = \"As hipóteses dos incisos III e IV compreendem a \"\n",
    "check_labels_skweak(text)\n",
    "see_tokenization(text)"
   ]
  },
  {
   "cell_type": "code",
   "execution_count": 172,
   "id": "b120f7f6-6aaa-48b1-b167-56ea5c957843",
   "metadata": {},
   "outputs": [],
   "source": [
    "def getSpanIndexes(doc, lst_span_labels):\n",
    "    start_idx = []\n",
    "    middle_idx = []\n",
    "    for span_label in lst_span_labels:\n",
    "        spans = doc.spans[span_label]\n",
    "        for s in spans:\n",
    "            start_idx.append(s.start)\n",
    "            rangee = list(range(s.start+1,s.end))\n",
    "            middle_idx.extend(rangee)\n",
    "    \n",
    "    return start_idx, middle_idx"
   ]
  },
  {
   "cell_type": "code",
   "execution_count": 173,
   "id": "6974a365-3225-4553-b5ca-4d48f53de803",
   "metadata": {},
   "outputs": [],
   "source": [
    "def save(docs, output_csv):\n",
    "    writer = open(output_csv, mode='w')\n",
    "    \n",
    "    for doc in docs:\n",
    "        start_idx, middle_idx = getSpanIndexes(doc, ['law_detector', 'apelidos'])\n",
    "        for token in doc:\n",
    "            if (token.i in start_idx):\n",
    "                ent_type = 'B-LEGISLACAO'\n",
    "            elif (token.i in middle_idx):\n",
    "                ent_type = 'I-LEGISLACAO'\n",
    "            elif (token.text == '\\n'):\n",
    "                continue\n",
    "            else:\n",
    "                ent_type = 'O'\n",
    "                \n",
    "            line = '{} {}\\n'.format(token.text, ent_type)\n",
    "            writer.write(line)\n",
    "        \n",
    "        writer.write('\\n')\n",
    "            \n",
    "    writer.close() "
   ]
  },
  {
   "cell_type": "code",
   "execution_count": 175,
   "id": "73493e2b-9868-43b3-b927-1daa36641ccb",
   "metadata": {},
   "outputs": [],
   "source": [
    "# save(sentences_labeled, 'dataset_annotated_v3.txt')\n",
    "# save(sentences_train_labeled, 'train_annotated.txt')\n",
    "# save(sentences_test_labeled, 'test_annotated.txt')"
   ]
  },
  {
   "cell_type": "markdown",
   "id": "1dff4d7e-f3a5-41e0-bc06-f7fa1f4bc349",
   "metadata": {},
   "source": [
    "**Example**"
   ]
  },
  {
   "cell_type": "code",
   "execution_count": 20,
   "id": "dd1f20dc-e820-41f6-ad56-1662a975bdf8",
   "metadata": {},
   "outputs": [
    {
     "name": "stdout",
     "output_type": "stream",
     "text": [
      "art. 543-B LEGISLACAO\n"
     ]
    }
   ],
   "source": [
    "spans_law_detector = sentences_labeled[5].spans['law_detector']\n",
    "for s in spans_law_detector:\n",
    "    print(s, s.label_)"
   ]
  }
 ],
 "metadata": {
  "kernelspec": {
   "display_name": "Python 3 (ipykernel)",
   "language": "python",
   "name": "python3"
  },
  "language_info": {
   "codemirror_mode": {
    "name": "ipython",
    "version": 3
   },
   "file_extension": ".py",
   "mimetype": "text/x-python",
   "name": "python",
   "nbconvert_exporter": "python",
   "pygments_lexer": "ipython3",
   "version": "3.7.12"
  },
  "toc-showmarkdowntxt": false
 },
 "nbformat": 4,
 "nbformat_minor": 5
}
