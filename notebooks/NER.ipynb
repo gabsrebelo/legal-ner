{
  "cells": [
    {
      "cell_type": "markdown",
      "metadata": {
        "id": "cq0QDfABhgzo"
      },
      "source": [
        "**Requisitos**\n",
        "\n",
        "tensorflow==1.13.1\n",
        "\n",
        "keras==2.2.4\n",
        "\n",
        "h5py==2.10.0\n",
        "\n",
        "keras-contrib by: pip install git+https://www.github.com/keras-team/keras-contrib.git"
      ]
    },
    {
      "cell_type": "code",
      "execution_count": null,
      "metadata": {
        "colab": {
          "base_uri": "https://localhost:8080/"
        },
        "id": "uCB5B3vVhlPT",
        "outputId": "7cdb866d-effd-4795-866f-b055fb1db95f"
      },
      "outputs": [
        {
          "name": "stdout",
          "output_type": "stream",
          "text": [
            "TensorFlow 1.x selected.\n"
          ]
        }
      ],
      "source": [
        "%tensorflow_version 1.x"
      ]
    },
    {
      "cell_type": "code",
      "execution_count": null,
      "metadata": {
        "colab": {
          "base_uri": "https://localhost:8080/"
        },
        "id": "DsmAzfMkh8M9",
        "outputId": "e94cb10a-b955-432d-b44b-df4755e9e6c6"
      },
      "outputs": [
        {
          "name": "stdout",
          "output_type": "stream",
          "text": [
            "Collecting git+https://www.github.com/keras-team/keras-contrib.git\n",
            "  Cloning https://www.github.com/keras-team/keras-contrib.git to /tmp/pip-req-build-n_w7yrm9\n",
            "  Running command git clone -q https://www.github.com/keras-team/keras-contrib.git /tmp/pip-req-build-n_w7yrm9\n",
            "Requirement already satisfied: keras in /tensorflow-1.15.2/python3.7 (from keras-contrib==2.0.8) (2.3.1)\n",
            "Requirement already satisfied: scipy>=0.14 in /usr/local/lib/python3.7/dist-packages (from keras->keras-contrib==2.0.8) (1.4.1)\n",
            "Requirement already satisfied: h5py in /usr/local/lib/python3.7/dist-packages (from keras->keras-contrib==2.0.8) (3.1.0)\n",
            "Requirement already satisfied: numpy>=1.9.1 in /usr/local/lib/python3.7/dist-packages (from keras->keras-contrib==2.0.8) (1.21.5)\n",
            "Requirement already satisfied: keras-applications>=1.0.6 in /tensorflow-1.15.2/python3.7 (from keras->keras-contrib==2.0.8) (1.0.8)\n",
            "Requirement already satisfied: six>=1.9.0 in /usr/local/lib/python3.7/dist-packages (from keras->keras-contrib==2.0.8) (1.15.0)\n",
            "Requirement already satisfied: keras-preprocessing>=1.0.5 in /usr/local/lib/python3.7/dist-packages (from keras->keras-contrib==2.0.8) (1.1.2)\n",
            "Requirement already satisfied: pyyaml in /usr/local/lib/python3.7/dist-packages (from keras->keras-contrib==2.0.8) (3.13)\n",
            "Requirement already satisfied: cached-property in /usr/local/lib/python3.7/dist-packages (from h5py->keras->keras-contrib==2.0.8) (1.5.2)\n",
            "Building wheels for collected packages: keras-contrib\n",
            "  Building wheel for keras-contrib (setup.py) ... \u001b[?25l\u001b[?25hdone\n",
            "  Created wheel for keras-contrib: filename=keras_contrib-2.0.8-py3-none-any.whl size=101077 sha256=7056eeeca26aff68a816abb71599a6c72b85f5329170394dbd3f11f5b7faff65\n",
            "  Stored in directory: /tmp/pip-ephem-wheel-cache-dghi07ef/wheels/bb/1f/f2/b57495012683b6b20bbae94a3915ec79753111452d79886abc\n",
            "Successfully built keras-contrib\n",
            "Installing collected packages: keras-contrib\n",
            "Successfully installed keras-contrib-2.0.8\n",
            "Collecting seqeval\n",
            "  Downloading seqeval-1.2.2.tar.gz (43 kB)\n",
            "\u001b[K     |████████████████████████████████| 43 kB 1.0 MB/s \n",
            "\u001b[?25hRequirement already satisfied: numpy>=1.14.0 in /usr/local/lib/python3.7/dist-packages (from seqeval) (1.21.5)\n",
            "Requirement already satisfied: scikit-learn>=0.21.3 in /usr/local/lib/python3.7/dist-packages (from seqeval) (1.0.2)\n",
            "Requirement already satisfied: joblib>=0.11 in /usr/local/lib/python3.7/dist-packages (from scikit-learn>=0.21.3->seqeval) (1.1.0)\n",
            "Requirement already satisfied: threadpoolctl>=2.0.0 in /usr/local/lib/python3.7/dist-packages (from scikit-learn>=0.21.3->seqeval) (3.1.0)\n",
            "Requirement already satisfied: scipy>=1.1.0 in /usr/local/lib/python3.7/dist-packages (from scikit-learn>=0.21.3->seqeval) (1.4.1)\n",
            "Building wheels for collected packages: seqeval\n",
            "  Building wheel for seqeval (setup.py) ... \u001b[?25l\u001b[?25hdone\n",
            "  Created wheel for seqeval: filename=seqeval-1.2.2-py3-none-any.whl size=16180 sha256=9e7578a5fbe19032c775af05c93d471e2fa27f2e7b87208fe5e02166bd026c1f\n",
            "  Stored in directory: /root/.cache/pip/wheels/05/96/ee/7cac4e74f3b19e3158dce26a20a1c86b3533c43ec72a549fd7\n",
            "Successfully built seqeval\n",
            "Installing collected packages: seqeval\n",
            "Successfully installed seqeval-1.2.2\n"
          ]
        }
      ],
      "source": [
        "!pip install git+https://www.github.com/keras-team/keras-contrib.git # Needed for using CRF\n",
        "!pip install seqeval"
      ]
    },
    {
      "cell_type": "code",
      "execution_count": null,
      "metadata": {
        "id": "MEBxpjCrhgzo"
      },
      "outputs": [],
      "source": [
        "from keras.preprocessing.sequence import pad_sequences\n",
        "from keras.initializers import he_normal\n",
        "from keras.optimizers import Adam, RMSprop, SGD\n",
        "from tensorflow.keras.utils import to_categorical\n",
        "from sklearn.model_selection import train_test_split\n",
        "from keras.models import Model, Input, model_from_json, load_model\n",
        "from keras.layers import LSTM, Embedding, Dense, TimeDistributed, Dropout, Bidirectional\n",
        "from keras_contrib.layers import CRF\n",
        "from keras_contrib.losses import crf_loss\n",
        "from keras_contrib.metrics import crf_accuracy, crf_viterbi_accuracy\n",
        "from seqeval.metrics import precision_score, recall_score, f1_score, classification_report\n",
        "import numpy as np\n",
        "import pandas as pd\n",
        "import matplotlib.pyplot as plt"
      ]
    },
    {
      "cell_type": "markdown",
      "metadata": {
        "id": "fEw5Z0BIhgzq"
      },
      "source": [
        "# Carregar dados"
      ]
    },
    {
      "cell_type": "code",
      "execution_count": null,
      "metadata": {
        "colab": {
          "base_uri": "https://localhost:8080/"
        },
        "id": "FS2Q1_CC-P_i",
        "outputId": "732122d0-51cc-4d5f-f39e-739773eedaa3"
      },
      "outputs": [
        {
          "name": "stdout",
          "output_type": "stream",
          "text": [
            "Mounted at /content/drive\n"
          ]
        }
      ],
      "source": [
        "from google.colab import drive\n",
        "drive.mount('/content/drive')"
      ]
    },
    {
      "cell_type": "code",
      "execution_count": null,
      "metadata": {
        "colab": {
          "base_uri": "https://localhost:8080/"
        },
        "id": "b7hFH5Lxhgzr",
        "outputId": "c3829b73-bbb4-4300-f1be-c40a153b5c6b"
      },
      "outputs": [
        {
          "name": "stdout",
          "output_type": "stream",
          "text": [
            "2517 sentenças encontradas!\n"
          ]
        }
      ],
      "source": [
        "data_filepath = '/content/drive/MyDrive/UFAM/TCC/seq_tag_lstm_crf_v2/Treinamento/Dataset/dataset_annotated_v3.txt'\n",
        "data = \"./Coleta de sentencas/text_\"\n",
        "\n",
        "def get_sentences(file):\n",
        "    with open(file,'r') as f:\n",
        "        sentences = f.read().split(\"\\n\\n\")\n",
        "        return sentences\n",
        "    \n",
        "def extract_words_tags(sentence):\n",
        "    wt = []\n",
        "    \n",
        "    pair = sentence.split(\"\\n\")\n",
        "    for p in pair:\n",
        "        if p.startswith(\" \"):\n",
        "            continue\n",
        "        splitted = p.split(\" \")\n",
        "        wt.append((splitted[0],splitted[1]))\n",
        "    return wt\n",
        "\n",
        "sentences = get_sentences(data_filepath)\n",
        "print('{} sentenças encontradas!'.format(len(sentences)))\n",
        "\n",
        "wt_sentences = [extract_words_tags(s) for s in sentences]"
      ]
    },
    {
      "cell_type": "markdown",
      "metadata": {
        "id": "YgI7Jts1hgzs"
      },
      "source": [
        "**Explorar o tamanho das sentenças**"
      ]
    },
    {
      "cell_type": "code",
      "execution_count": null,
      "metadata": {
        "colab": {
          "base_uri": "https://localhost:8080/",
          "height": 295
        },
        "id": "hck9j4Z2hgzt",
        "outputId": "3041b8ed-8211-46ba-9232-51fff5a5775f"
      },
      "outputs": [
        {
          "data": {
            "image/png": "[encoded data removed]",
            "text/plain": [
              "<Figure size 432x288 with 1 Axes>"
            ]
          },
          "metadata": {
            "needs_background": "light"
          },
          "output_type": "display_data"
        }
      ],
      "source": [
        "import matplotlib.pyplot as plt\n",
        "plt.hist([len(s) for s in sentences], bins=50)\n",
        "plt.title('Token per sentence')\n",
        "plt.xlabel('Len (number of token)')\n",
        "plt.ylabel('# samples')\n",
        "plt.show()"
      ]
    },
    {
      "cell_type": "markdown",
      "metadata": {
        "id": "Z0Tj6_iJhgzt"
      },
      "source": [
        "**Vocabulários de palavras e tags**"
      ]
    },
    {
      "cell_type": "code",
      "execution_count": null,
      "metadata": {
        "colab": {
          "base_uri": "https://localhost:8080/"
        },
        "id": "RW91cGnmhgzu",
        "outputId": "2f6adadf-8abe-4f74-ab82-32ebfffa3af9"
      },
      "outputs": [
        {
          "name": "stdout",
          "output_type": "stream",
          "text": [
            "Quantidade de palavras encontradas: 13581\n",
            "Tags: ['I-LEGISLACAO', 'O', 'B-LEGISLACAO']\n",
            "Length: 3\n"
          ]
        }
      ],
      "source": [
        "words = list(set([wt[0] for s in wt_sentences for wt in s]))\n",
        "words.append(\"ENDPAD\")\n",
        "n_words = len(words)\n",
        "print('Quantidade de palavras encontradas: {}'.format(n_words))\n",
        "\n",
        "tags = list(set([wt[1] for s in wt_sentences for wt in s]))\n",
        "# tags = ['B-LEGISLACAO','I-LEGISLACAO','O']\n",
        "n_tags = len(tags)\n",
        "print('Tags: {}'.format(tags))\n",
        "print('Length: {}'.format(n_tags))\n",
        "\n",
        "word2idx = {w: i + 1 for i, w in enumerate(words)}\n",
        "tag2idx = {t: i for i, t in enumerate(tags)}"
      ]
    },
    {
      "cell_type": "markdown",
      "metadata": {
        "id": "XP-c_ibPhgzu"
      },
      "source": [
        "# Preparando sentenças"
      ]
    },
    {
      "cell_type": "code",
      "execution_count": null,
      "metadata": {
        "id": "RaeKgWWwhgzv"
      },
      "outputs": [],
      "source": [
        "max_len = 500\n",
        "\n",
        "X = [[word2idx[w[0]] for w in s] for s in wt_sentences]\n",
        "X = pad_sequences(maxlen=max_len, sequences=X, padding=\"post\", value=0)\n",
        "\n",
        "y = [[tag2idx[w[1]] for w in s] for s in wt_sentences]\n",
        "y = pad_sequences(maxlen=max_len, sequences=y, padding=\"post\", value=tag2idx[\"O\"])\n",
        "y = [to_categorical(i, num_classes=n_tags) for i in y]"
      ]
    },
    {
      "cell_type": "markdown",
      "metadata": {
        "id": "N8xp-4YQhgzv"
      },
      "source": [
        "**Separação dos dados de treinamento e teste**"
      ]
    },
    {
      "cell_type": "code",
      "execution_count": null,
      "metadata": {
        "id": "bAFKkQYGhgzw"
      },
      "outputs": [],
      "source": [
        "X_tr, X_te, y_tr, y_te = train_test_split(X, y, test_size=0.2)"
      ]
    },
    {
      "cell_type": "markdown",
      "metadata": {
        "id": "-_3INdDuhgzw"
      },
      "source": [
        "# Treinar o modelo"
      ]
    },
    {
      "cell_type": "code",
      "execution_count": null,
      "metadata": {
        "id": "4R-7e-u0JO8M"
      },
      "outputs": [],
      "source": [
        "def create_model(maxlen, n_words):\n",
        "  input = Input(shape=(maxlen,))\n",
        "  model = Embedding(input_dim=n_words+1, output_dim=500, input_length=maxlen)(input)\n",
        "  model = Bidirectional(LSTM(units=50, \n",
        "                           return_sequences=True, \n",
        "                           dropout=0.5,\n",
        "                           recurrent_dropout=0.5,\n",
        "                           kernel_initializer=he_normal()))(model)\n",
        "  model = TimeDistributed(Dense(50, activation=\"relu\"))(model)  \n",
        "  crf = CRF(n_tags)\n",
        "  out = crf(model)\n",
        "  model = Model(input, out)\n",
        "\n",
        "  opt = RMSprop(lr=0.05)\n",
        "  model.compile(optimizer=opt, loss=crf.loss_function, metrics=[crf.accuracy], )\n",
        "  model.summary()\n",
        "\n",
        "  return model"
      ]
    },
    {
      "cell_type": "code",
      "execution_count": null,
      "metadata": {
        "colab": {
          "base_uri": "https://localhost:8080/"
        },
        "id": "sOg2HSdBSmar",
        "outputId": "dcbbba5f-cc50-45b2-e58b-ca65420da898"
      },
      "outputs": [],
      "source": [
        "model = create_model(max_len, n_words)"
      ]
    },
    {
      "cell_type": "code",
      "execution_count": null,
      "metadata": {
        "colab": {
          "base_uri": "https://localhost:8080/"
        },
        "id": "6JWNe67Xhgzx",
        "outputId": "95cc3140-1295-4e60-b44b-e1f8c0b30174"
      },
      "outputs": [],
      "source": [
        "history = model.fit(X_tr, np.array(y_tr), batch_size=32, epochs=5, validation_split=0.2, verbose=1)"
      ]
    },
    {
      "cell_type": "code",
      "execution_count": null,
      "metadata": {
        "colab": {
          "base_uri": "https://localhost:8080/",
          "height": 700
        },
        "id": "_3X2nLaShgzy",
        "outputId": "c945f6fa-85e9-436c-e982-8a13fd7d9587"
      },
      "outputs": [],
      "source": [
        "hist = pd.DataFrame(history.history)\n",
        "\n",
        "plt.style.use(\"ggplot\")\n",
        "plt.figure(figsize=(12, 12))\n",
        "plt.plot(hist[\"crf_viterbi_accuracy\"])\n",
        "plt.plot(hist[\"val_crf_viterbi_accuracy\"])\n",
        "plt.show()"
      ]
    },
    {
      "cell_type": "markdown",
      "metadata": {
        "id": "Qqk2diPYhgzy",
        "tags": []
      },
      "source": [
        "# Avaliar"
      ]
    },
    {
      "cell_type": "code",
      "execution_count": null,
      "metadata": {
        "colab": {
          "base_uri": "https://localhost:8080/"
        },
        "id": "oJzXKodfhgzy",
        "outputId": "34e336db-dcc9-4dcc-f909-d7a1df4a90a2"
      },
      "outputs": [],
      "source": [
        "test_pred = model.predict(X_te, verbose=1)\n",
        "idx2tag = {i: w for w, i in tag2idx.items()}\n",
        "\n",
        "def pred2label(pred):\n",
        "    out = []\n",
        "    for pred_i in pred:\n",
        "        out_i = []\n",
        "        for p in pred_i:\n",
        "            p_i = np.argmax(p)\n",
        "            out_i.append(idx2tag[p_i].replace(\"PAD\", \"O\"))\n",
        "        out.append(out_i)\n",
        "    return out\n",
        "\n",
        "pred_labels = pred2label(test_pred)\n",
        "test_labels = pred2label(y_te)\n",
        "\n",
        "print(\"F1-score: {:.1%}\".format(f1_score(test_labels, pred_labels)))\n",
        "print(classification_report(test_labels, pred_labels))"
      ]
    },
    {
      "cell_type": "markdown",
      "metadata": {
        "id": "8LrJ23rDhgzz"
      },
      "source": [
        "**Predictions**"
      ]
    },
    {
      "cell_type": "code",
      "execution_count": null,
      "metadata": {
        "colab": {
          "base_uri": "https://localhost:8080/"
        },
        "id": "bgN87QCvhgzz",
        "outputId": "7f0b9c3f-acbc-4b35-d8f8-bed12c123c5e"
      },
      "outputs": [],
      "source": [
        "i = 18\n",
        "p = model.predict(np.array([X_te[i]]))\n",
        "p = np.argmax(p, axis=-1)\n",
        "true = np.argmax(y_te[i], -1)\n",
        "print(\"{:15}||{:5}||{}\".format(\"Word\", \"True\", \"Pred\"))\n",
        "print(30 * \"=\")\n",
        "for w, t, pred in zip(X_te[i], true, p[0]):\n",
        "    if w != 0:\n",
        "        print(\"{:15}: {:5} {}\".format(words[w-1], tags[t], tags[pred]))"
      ]
    },
    {
      "cell_type": "markdown",
      "metadata": {
        "id": "TB4NjVuZhgzz"
      },
      "source": [
        "# Salvar modelo"
      ]
    },
    {
      "cell_type": "code",
      "execution_count": null,
      "metadata": {
        "id": "hcvGGBdhhgzz"
      },
      "outputs": [],
      "source": [
        "model_filename = \"/content/drive/MyDrive/UFAM/TCC/seq_tag_lstm_crf_v2/Models/model_v4\"\n",
        "\n",
        "model.save(model_filename+\".h5\")\n",
        "\n",
        "# serializar para JSON\n",
        "model_json = model.to_json()\n",
        "with open(model_filename+\".json\", \"w\") as json_file:\n",
        "    json_file.write(model_json)\n",
        "    \n",
        "# serializar para HDF5\n",
        "model.save_weights(model_filename+\"_weights.h5\")"
      ]
    },
    {
      "cell_type": "code",
      "execution_count": null,
      "metadata": {
        "id": "E_ERisuhhgz0"
      },
      "outputs": [],
      "source": [
        "import pickle\n",
        "with open(\"/content/drive/MyDrive/UFAM/TCC/seq_tag_lstm_crf_v2/Models/word2idx_v4_13581\",\"wb\") as word2idx_file:\n",
        "    pickle.dump(word2idx, word2idx_file)"
      ]
    }
  ],
  "metadata": {
    "accelerator": "GPU",
    "colab": {
      "name": "TCC_NER_v5.ipynb",
      "provenance": [],
      "toc_visible": true
    },
    "kernelspec": {
      "display_name": "Python 3 (ipykernel)",
      "language": "python",
      "name": "python3"
    },
    "language_info": {
      "codemirror_mode": {
        "name": "ipython",
        "version": 3
      },
      "file_extension": ".py",
      "mimetype": "text/x-python",
      "name": "python",
      "nbconvert_exporter": "python",
      "pygments_lexer": "ipython3",
      "version": "3.7.12"
    }
  },
  "nbformat": 4,
  "nbformat_minor": 0
}
